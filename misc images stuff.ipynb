{
 "cells": [
  {
   "cell_type": "code",
   "execution_count": 8,
   "metadata": {
    "collapsed": true
   },
   "outputs": [],
   "source": [
    "import csv\n",
    "from PIL import Image\n",
    "import glob\n",
    "image_list = []\n",
    "for filename in glob.glob('/home/ambika/Downloads/CrowdSourcing-Project-master/samples/*.jpg'): \n",
    "    #im=Image.open(filename)\n",
    "    image_list.append(filename)"
   ]
  },
  {
   "cell_type": "code",
   "execution_count": 9,
   "metadata": {
    "collapsed": false
   },
   "outputs": [
    {
     "name": "stdout",
     "output_type": "stream",
     "text": [
      "['/home/ambika/Downloads/CrowdSourcing-Project-master/samples/26201.jpg', '/home/ambika/Downloads/CrowdSourcing-Project-master/samples/23033.jpg', '/home/ambika/Downloads/CrowdSourcing-Project-master/samples/41867.jpg', '/home/ambika/Downloads/CrowdSourcing-Project-master/samples/1404.jpg', '/home/ambika/Downloads/CrowdSourcing-Project-master/samples/1700.jpg', '/home/ambika/Downloads/CrowdSourcing-Project-master/samples/32597.jpg', '/home/ambika/Downloads/CrowdSourcing-Project-master/samples/49151.jpg', '/home/ambika/Downloads/CrowdSourcing-Project-master/samples/22874.jpg', '/home/ambika/Downloads/CrowdSourcing-Project-master/samples/22192.jpg', '/home/ambika/Downloads/CrowdSourcing-Project-master/samples/86250.jpg', '/home/ambika/Downloads/CrowdSourcing-Project-master/samples/13415.jpg', '/home/ambika/Downloads/CrowdSourcing-Project-master/samples/60456.jpg', '/home/ambika/Downloads/CrowdSourcing-Project-master/samples/43734.jpg', '/home/ambika/Downloads/CrowdSourcing-Project-master/samples/5486.jpg', '/home/ambika/Downloads/CrowdSourcing-Project-master/samples/31519.jpg', '/home/ambika/Downloads/CrowdSourcing-Project-master/samples/27756.jpg', '/home/ambika/Downloads/CrowdSourcing-Project-master/samples/43202.jpg', '/home/ambika/Downloads/CrowdSourcing-Project-master/samples/10707.jpg', '/home/ambika/Downloads/CrowdSourcing-Project-master/samples/18366.jpg', '/home/ambika/Downloads/CrowdSourcing-Project-master/samples/23995.jpg', '/home/ambika/Downloads/CrowdSourcing-Project-master/samples/15956.jpg', '/home/ambika/Downloads/CrowdSourcing-Project-master/samples/28273.jpg', '/home/ambika/Downloads/CrowdSourcing-Project-master/samples/27946.jpg', '/home/ambika/Downloads/CrowdSourcing-Project-master/samples/35282.jpg', '/home/ambika/Downloads/CrowdSourcing-Project-master/samples/28872.jpg', '/home/ambika/Downloads/CrowdSourcing-Project-master/samples/23579.jpg', '/home/ambika/Downloads/CrowdSourcing-Project-master/samples/8016.jpg', '/home/ambika/Downloads/CrowdSourcing-Project-master/samples/56545.jpg', '/home/ambika/Downloads/CrowdSourcing-Project-master/samples/29577.jpg', '/home/ambika/Downloads/CrowdSourcing-Project-master/samples/1342.jpg', '/home/ambika/Downloads/CrowdSourcing-Project-master/samples/18462.jpg', '/home/ambika/Downloads/CrowdSourcing-Project-master/samples/14831.jpg', '/home/ambika/Downloads/CrowdSourcing-Project-master/samples/39484.jpg', '/home/ambika/Downloads/CrowdSourcing-Project-master/samples/14450.jpg', '/home/ambika/Downloads/CrowdSourcing-Project-master/samples/2988.jpg', '/home/ambika/Downloads/CrowdSourcing-Project-master/samples/51495.jpg', '/home/ambika/Downloads/CrowdSourcing-Project-master/samples/32941.jpg', '/home/ambika/Downloads/CrowdSourcing-Project-master/samples/46882.jpg', '/home/ambika/Downloads/CrowdSourcing-Project-master/samples/17425.jpg', '/home/ambika/Downloads/CrowdSourcing-Project-master/samples/132121.jpg', '/home/ambika/Downloads/CrowdSourcing-Project-master/samples/36765.jpg', '/home/ambika/Downloads/CrowdSourcing-Project-master/samples/10720.jpg', '/home/ambika/Downloads/CrowdSourcing-Project-master/samples/27874.jpg', '/home/ambika/Downloads/CrowdSourcing-Project-master/samples/74017.jpg', '/home/ambika/Downloads/CrowdSourcing-Project-master/samples/35672.jpg', '/home/ambika/Downloads/CrowdSourcing-Project-master/samples/32811.jpg', '/home/ambika/Downloads/CrowdSourcing-Project-master/samples/34321.jpg', '/home/ambika/Downloads/CrowdSourcing-Project-master/samples/58210.jpg', '/home/ambika/Downloads/CrowdSourcing-Project-master/samples/42968.jpg', '/home/ambika/Downloads/CrowdSourcing-Project-master/samples/21900.jpg', '/home/ambika/Downloads/CrowdSourcing-Project-master/samples/20381.jpg', '/home/ambika/Downloads/CrowdSourcing-Project-master/samples/28246.jpg', '/home/ambika/Downloads/CrowdSourcing-Project-master/samples/711.jpg', '/home/ambika/Downloads/CrowdSourcing-Project-master/samples/3983.jpg', '/home/ambika/Downloads/CrowdSourcing-Project-master/samples/35671.jpg', '/home/ambika/Downloads/CrowdSourcing-Project-master/samples/2881.jpg', '/home/ambika/Downloads/CrowdSourcing-Project-master/samples/3793.jpg', '/home/ambika/Downloads/CrowdSourcing-Project-master/samples/14635.jpg', '/home/ambika/Downloads/CrowdSourcing-Project-master/samples/5037.jpg', '/home/ambika/Downloads/CrowdSourcing-Project-master/samples/21161.jpg', '/home/ambika/Downloads/CrowdSourcing-Project-master/samples/75118.jpg', '/home/ambika/Downloads/CrowdSourcing-Project-master/samples/7207.jpg', '/home/ambika/Downloads/CrowdSourcing-Project-master/samples/19432.jpg', '/home/ambika/Downloads/CrowdSourcing-Project-master/samples/60823.jpg', '/home/ambika/Downloads/CrowdSourcing-Project-master/samples/58492.jpg', '/home/ambika/Downloads/CrowdSourcing-Project-master/samples/33532.jpg', '/home/ambika/Downloads/CrowdSourcing-Project-master/samples/36942.jpg', '/home/ambika/Downloads/CrowdSourcing-Project-master/samples/37470.jpg', '/home/ambika/Downloads/CrowdSourcing-Project-master/samples/26765.jpg', '/home/ambika/Downloads/CrowdSourcing-Project-master/samples/97782.jpg', '/home/ambika/Downloads/CrowdSourcing-Project-master/samples/13729.jpg', '/home/ambika/Downloads/CrowdSourcing-Project-master/samples/18975.jpg', '/home/ambika/Downloads/CrowdSourcing-Project-master/samples/46077.jpg', '/home/ambika/Downloads/CrowdSourcing-Project-master/samples/1584.jpg', '/home/ambika/Downloads/CrowdSourcing-Project-master/samples/20438.jpg', '/home/ambika/Downloads/CrowdSourcing-Project-master/samples/12827.jpg', '/home/ambika/Downloads/CrowdSourcing-Project-master/samples/67608.jpg', '/home/ambika/Downloads/CrowdSourcing-Project-master/samples/117310.jpg', '/home/ambika/Downloads/CrowdSourcing-Project-master/samples/8787.jpg', '/home/ambika/Downloads/CrowdSourcing-Project-master/samples/22755.jpg', '/home/ambika/Downloads/CrowdSourcing-Project-master/samples/54088.jpg', '/home/ambika/Downloads/CrowdSourcing-Project-master/samples/19455.jpg', '/home/ambika/Downloads/CrowdSourcing-Project-master/samples/56739.jpg', '/home/ambika/Downloads/CrowdSourcing-Project-master/samples/7096.jpg', '/home/ambika/Downloads/CrowdSourcing-Project-master/samples/11182.jpg', '/home/ambika/Downloads/CrowdSourcing-Project-master/samples/46761.jpg', '/home/ambika/Downloads/CrowdSourcing-Project-master/samples/20779.jpg', '/home/ambika/Downloads/CrowdSourcing-Project-master/samples/12947.jpg', '/home/ambika/Downloads/CrowdSourcing-Project-master/samples/6870.jpg', '/home/ambika/Downloads/CrowdSourcing-Project-master/samples/40036.jpg', '/home/ambika/Downloads/CrowdSourcing-Project-master/samples/36990.jpg', '/home/ambika/Downloads/CrowdSourcing-Project-master/samples/14257.jpg', '/home/ambika/Downloads/CrowdSourcing-Project-master/samples/11181.jpg', '/home/ambika/Downloads/CrowdSourcing-Project-master/samples/675.jpg', '/home/ambika/Downloads/CrowdSourcing-Project-master/samples/26393.jpg', '/home/ambika/Downloads/CrowdSourcing-Project-master/samples/7722.jpg', '/home/ambika/Downloads/CrowdSourcing-Project-master/samples/47916.jpg', '/home/ambika/Downloads/CrowdSourcing-Project-master/samples/1029.jpg', '/home/ambika/Downloads/CrowdSourcing-Project-master/samples/9553.jpg', '/home/ambika/Downloads/CrowdSourcing-Project-master/samples/37709.jpg']\n"
     ]
    }
   ],
   "source": [
    "print image_list"
   ]
  },
  {
   "cell_type": "code",
   "execution_count": 12,
   "metadata": {
    "collapsed": true
   },
   "outputs": [],
   "source": [
    "filename='test'\n",
    "b = open(filename, 'wb') \n",
    "a = csv.writer(b)\n",
    "\n",
    "for i in range(0,10):\n",
    "    data=[[image_list[i]]]\n",
    "    a.writerows(data)\n",
    "\n",
    "b.close()"
   ]
  },
  {
   "cell_type": "code",
   "execution_count": null,
   "metadata": {
    "collapsed": true
   },
   "outputs": [],
   "source": []
  }
 ],
 "metadata": {
  "kernelspec": {
   "display_name": "Python 2",
   "language": "python",
   "name": "python2"
  },
  "language_info": {
   "codemirror_mode": {
    "name": "ipython",
    "version": 2
   },
   "file_extension": ".py",
   "mimetype": "text/x-python",
   "name": "python",
   "nbconvert_exporter": "python",
   "pygments_lexer": "ipython2",
   "version": "2.7.12"
  }
 },
 "nbformat": 4,
 "nbformat_minor": 2
}
