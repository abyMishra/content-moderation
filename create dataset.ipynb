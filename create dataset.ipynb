{
 "cells": [
  {
   "cell_type": "code",
   "execution_count": 13,
   "metadata": {
    "collapsed": false
   },
   "outputs": [],
   "source": [
    "import csv\n",
    "import numpy as np\n",
    "from PIL import Image\n",
    "import glob\n",
    "image_list = []\n",
    "for filename in glob.glob('/home/ambika/INF_project/data/train/*.jpg'): \n",
    "    #im=Image.open(filename)\n",
    "    image_list.append(filename)\n",
    "\n",
    "#print image_list\n",
    "    \n",
    "filename2='train_img.txt'\n",
    "b = open(filename2, 'wb') \n",
    "a = csv.writer(b)\n",
    "\n",
    "for i in range(0,len(image_list)):\n",
    "    data=[[image_list[i]]]\n",
    "    a.writerows(data)\n",
    "\n",
    "b.close()"
   ]
  },
  {
   "cell_type": "code",
   "execution_count": 21,
   "metadata": {
    "collapsed": false
   },
   "outputs": [],
   "source": [
    "img_path1='/home/ambika/INF_project/airplane_img.txt'\n",
    "paths1 = np.loadtxt(img_path1, str)\n",
    "img_path2='/home/ambika/INF_project/bird_img.txt'\n",
    "paths2 = np.loadtxt(img_path2, str)\n",
    "img_path3='/home/ambika/INF_project/bus_img.txt'\n",
    "paths3 = np.loadtxt(img_path3, str)\n",
    "img_path4='/home/ambika/INF_project/car_img.txt'\n",
    "paths4 = np.loadtxt(img_path4, str)\n",
    "img_path5='/home/ambika/INF_project/cat_img.txt'\n",
    "paths5 = np.loadtxt(img_path5, str)\n",
    "img_path6='/home/ambika/INF_project/couch_img.txt'\n",
    "paths6 = np.loadtxt(img_path6, str)\n",
    "img_path7='/home/ambika/INF_project/dog_img.txt'\n",
    "paths7 = np.loadtxt(img_path7, str)\n",
    "img_path8='/home/ambika/INF_project/horse_img.txt'\n",
    "paths8 = np.loadtxt(img_path8, str)\n",
    "img_path9='/home/ambika/INF_project/person_img.txt'\n",
    "paths9 = np.loadtxt(img_path9, str)\n",
    "img_path10='/home/ambika/INF_project/train_img.txt'\n",
    "paths10 = np.loadtxt(img_path10, str)\n",
    "\n",
    "#print paths\n",
    "#print paths[0]\n",
    "filename3='final_image_paths.txt'\n",
    "b = open(filename3, 'wb') \n",
    "a = csv.writer(b)\n",
    "\n",
    "for i in range(0,100):\n",
    "    img1=paths1[i]\n",
    "    img2=paths2[i]\n",
    "    img3=paths3[i]\n",
    "    img4=paths4[i]\n",
    "    img5=paths5[i]\n",
    "    img6=paths6[i]\n",
    "    img7=paths7[i]\n",
    "    img8=paths8[i]\n",
    "    img9=paths9[i]\n",
    "    img10=paths10[i]\n",
    "    \n",
    "    a.writerows([[img1]])\n",
    "    a.writerows([[img2]])\n",
    "    a.writerows([[img3]])\n",
    "    a.writerows([[img4]])\n",
    "    a.writerows([[img5]])\n",
    "    a.writerows([[img6]])\n",
    "    a.writerows([[img7]])\n",
    "    a.writerows([[img8]])\n",
    "    a.writerows([[img9]])\n",
    "    a.writerows([[img10]])\n",
    "\n",
    "b.close()\n",
    "\n"
   ]
  },
  {
   "cell_type": "code",
   "execution_count": 20,
   "metadata": {
    "collapsed": true
   },
   "outputs": [],
   "source": [
    "final_path='/home/ambika/INF_project/final_image_paths.txt'\n",
    "f = np.loadtxt(final_path, str)\n",
    "\n",
    "filename4='final_paths.txt'\n",
    "b = open(filename4, 'wb') \n",
    "a = csv.writer(b)\n",
    "\n",
    "for i in range(0,1000):\n",
    "    x=f[np.random.randint(0,len(f))]\n",
    "    a.writerows([[x]])\n",
    "    \n",
    "b.close()"
   ]
  },
  {
   "cell_type": "code",
   "execution_count": null,
   "metadata": {
    "collapsed": true
   },
   "outputs": [],
   "source": []
  }
 ],
 "metadata": {
  "kernelspec": {
   "display_name": "Python 2",
   "language": "python",
   "name": "python2"
  },
  "language_info": {
   "codemirror_mode": {
    "name": "ipython",
    "version": 2
   },
   "file_extension": ".py",
   "mimetype": "text/x-python",
   "name": "python",
   "nbconvert_exporter": "python",
   "pygments_lexer": "ipython2",
   "version": "2.7.12"
  }
 },
 "nbformat": 4,
 "nbformat_minor": 2
}
